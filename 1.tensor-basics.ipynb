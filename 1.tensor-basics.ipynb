{
 "cells": [
  {
   "cell_type": "code",
   "execution_count": 1,
   "id": "occupied-demand",
   "metadata": {},
   "outputs": [],
   "source": [
    "import torch\n",
    "import numpy as np"
   ]
  },
  {
   "cell_type": "code",
   "execution_count": 4,
   "id": "round-stanley",
   "metadata": {},
   "outputs": [
    {
     "name": "stdout",
     "output_type": "stream",
     "text": [
      "Thu Aug 19 22:28:26 2021       \n",
      "+-----------------------------------------------------------------------------+\n",
      "| NVIDIA-SMI 460.91.03    Driver Version: 460.91.03    CUDA Version: 11.2     |\n",
      "|-------------------------------+----------------------+----------------------+\n",
      "| GPU  Name        Persistence-M| Bus-Id        Disp.A | Volatile Uncorr. ECC |\n",
      "| Fan  Temp  Perf  Pwr:Usage/Cap|         Memory-Usage | GPU-Util  Compute M. |\n",
      "|                               |                      |               MIG M. |\n",
      "|===============================+======================+======================|\n",
      "|   0  GeForce GTX 1650    Off  | 00000000:01:00.0  On |                  N/A |\n",
      "| N/A   43C    P8     3W /  N/A |    581MiB /  3910MiB |      5%      Default |\n",
      "|                               |                      |                  N/A |\n",
      "+-------------------------------+----------------------+----------------------+\n",
      "                                                                               \n",
      "+-----------------------------------------------------------------------------+\n",
      "| Processes:                                                                  |\n",
      "|  GPU   GI   CI        PID   Type   Process name                  GPU Memory |\n",
      "|        ID   ID                                                   Usage      |\n",
      "|=============================================================================|\n",
      "|    0   N/A  N/A      1122      G   /usr/lib/xorg/Xorg                 35MiB |\n",
      "|    0   N/A  N/A      1888      G   /usr/lib/xorg/Xorg                224MiB |\n",
      "|    0   N/A  N/A      2015      G   /usr/bin/gnome-shell               96MiB |\n",
      "|    0   N/A  N/A    503368      G   ...AAAAAAAAA= --shared-files       32MiB |\n",
      "|    0   N/A  N/A    503388      G   ...AAAAAAAAA= --shared-files      178MiB |\n",
      "+-----------------------------------------------------------------------------+\n"
     ]
    }
   ],
   "source": [
    "!nvidia-smi\n"
   ]
  },
  {
   "cell_type": "code",
   "execution_count": 5,
   "id": "silent-analyst",
   "metadata": {},
   "outputs": [
    {
     "data": {
      "text/plain": [
       "tensor([[1., 1., 1., 1.]])"
      ]
     },
     "execution_count": 5,
     "metadata": {},
     "output_type": "execute_result"
    }
   ],
   "source": [
    "torch.ones(1,4)"
   ]
  },
  {
   "cell_type": "code",
   "execution_count": 15,
   "id": "unlikely-spell",
   "metadata": {},
   "outputs": [
    {
     "data": {
      "text/plain": [
       "tensor([[0., 0.],\n",
       "        [0., 0.]])"
      ]
     },
     "execution_count": 15,
     "metadata": {},
     "output_type": "execute_result"
    }
   ],
   "source": [
    "torch.zeros(2,2)"
   ]
  },
  {
   "cell_type": "code",
   "execution_count": 17,
   "id": "fancy-transformation",
   "metadata": {},
   "outputs": [
    {
     "data": {
      "text/plain": [
       "tensor([[0.1516, 0.9831],\n",
       "        [0.6976, 0.6300],\n",
       "        [0.6265, 0.4071]])"
      ]
     },
     "execution_count": 17,
     "metadata": {},
     "output_type": "execute_result"
    }
   ],
   "source": [
    "my_tensor = torch.rand(3,2)\n",
    "my_tensor # from normal distribution"
   ]
  },
  {
   "cell_type": "code",
   "execution_count": 18,
   "id": "regulated-repair",
   "metadata": {},
   "outputs": [
    {
     "data": {
      "text/plain": [
       "device(type='cpu')"
      ]
     },
     "execution_count": 18,
     "metadata": {},
     "output_type": "execute_result"
    }
   ],
   "source": [
    "my_tensor.device"
   ]
  },
  {
   "cell_type": "code",
   "execution_count": 10,
   "id": "hawaiian-zoning",
   "metadata": {},
   "outputs": [
    {
     "data": {
      "text/plain": [
       "tensor([[0.0152, 0.0666, 0.3035, 0.0014, 0.7687],\n",
       "        [0.4332, 0.1302, 0.0847, 0.0120, 0.0087],\n",
       "        [0.0326, 0.7096, 0.6844, 0.0330, 0.0163]])"
      ]
     },
     "execution_count": 10,
     "metadata": {},
     "output_type": "execute_result"
    }
   ],
   "source": [
    "my_tensor.mul(my_tensor)"
   ]
  },
  {
   "cell_type": "markdown",
   "id": "fitted-affair",
   "metadata": {},
   "source": [
    "## DIM 0 means column wise\n",
    "## DIM 1 means row wise"
   ]
  },
  {
   "cell_type": "code",
   "execution_count": 20,
   "id": "least-holder",
   "metadata": {},
   "outputs": [
    {
     "data": {
      "text/plain": [
       "tensor([[0.3033, 0.6967],\n",
       "        [0.5169, 0.4831],\n",
       "        [0.5546, 0.4454]])"
      ]
     },
     "execution_count": 20,
     "metadata": {},
     "output_type": "execute_result"
    }
   ],
   "source": [
    "torch.nn.functional.softmax(my_tensor,dim=1) # dim 0 means column wise\n",
    "                                            # dim 1 means row wise"
   ]
  },
  {
   "cell_type": "code",
   "execution_count": 23,
   "id": "interracial-audio",
   "metadata": {},
   "outputs": [
    {
     "data": {
      "text/plain": [
       "tensor([[0.3000, 0.9000],\n",
       "        [0.6976, 0.6300],\n",
       "        [0.6265, 0.4071]])"
      ]
     },
     "execution_count": 23,
     "metadata": {},
     "output_type": "execute_result"
    }
   ],
   "source": [
    "# clip anything below 0.3 to 0.3 and above 0.9 to 0.9\n",
    "my_tensor.clip(0.3,0.9)"
   ]
  },
  {
   "cell_type": "code",
   "execution_count": 24,
   "id": "unable-associate",
   "metadata": {},
   "outputs": [
    {
     "data": {
      "text/plain": [
       "array([[0.1516177 , 0.98305506],\n",
       "       [0.6975581 , 0.6300055 ],\n",
       "       [0.6264709 , 0.40710622]], dtype=float32)"
      ]
     },
     "execution_count": 24,
     "metadata": {},
     "output_type": "execute_result"
    }
   ],
   "source": [
    "my_tensor.detach().numpy()"
   ]
  },
  {
   "cell_type": "markdown",
   "id": "prepared-ordinance",
   "metadata": {},
   "source": [
    "## BEST LINK for Tensor Operation https://pytorch.org/docs/stable/tensors.html"
   ]
  }
 ],
 "metadata": {
  "kernelspec": {
   "display_name": "Python 3",
   "language": "python",
   "name": "python3"
  },
  "language_info": {
   "codemirror_mode": {
    "name": "ipython",
    "version": 3
   },
   "file_extension": ".py",
   "mimetype": "text/x-python",
   "name": "python",
   "nbconvert_exporter": "python",
   "pygments_lexer": "ipython3",
   "version": "3.8.10"
  }
 },
 "nbformat": 4,
 "nbformat_minor": 5
}
