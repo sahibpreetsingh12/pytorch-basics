{
 "cells": [
  {
   "cell_type": "code",
   "execution_count": 44,
   "id": "false-intake",
   "metadata": {},
   "outputs": [],
   "source": [
    "import torch\n",
    "a = torch.tensor([4.],requires_grad=True)"
   ]
  },
  {
   "cell_type": "code",
   "execution_count": 45,
   "id": "relevant-mounting",
   "metadata": {},
   "outputs": [],
   "source": [
    "b= torch.tensor([6.],requires_grad=True)"
   ]
  },
  {
   "cell_type": "code",
   "execution_count": 46,
   "id": "entire-moment",
   "metadata": {},
   "outputs": [],
   "source": [
    "y = a**3 - b**2"
   ]
  },
  {
   "cell_type": "code",
   "execution_count": 47,
   "id": "parental-legislature",
   "metadata": {},
   "outputs": [
    {
     "data": {
      "text/plain": [
       "tensor([28.], grad_fn=<SubBackward0>)"
      ]
     },
     "execution_count": 47,
     "metadata": {},
     "output_type": "execute_result"
    }
   ],
   "source": [
    "y"
   ]
  },
  {
   "cell_type": "code",
   "execution_count": 48,
   "id": "approximate-browser",
   "metadata": {},
   "outputs": [],
   "source": [
    "# dy/da = 3a**2 = 48\n",
    "# dy/db = -2b = -10"
   ]
  },
  {
   "cell_type": "markdown",
   "id": "horizontal-compilation",
   "metadata": {},
   "source": [
    "### Now to calculate these grads\n",
    "### just do\n",
    "\n",
    "# y.backward()"
   ]
  },
  {
   "cell_type": "code",
   "execution_count": 49,
   "id": "expensive-glass",
   "metadata": {},
   "outputs": [],
   "source": [
    "y.backward()"
   ]
  },
  {
   "cell_type": "code",
   "execution_count": 50,
   "id": "authorized-angel",
   "metadata": {},
   "outputs": [
    {
     "name": "stdout",
     "output_type": "stream",
     "text": [
      "tensor([48.])\n",
      "tensor([-12.])\n"
     ]
    }
   ],
   "source": [
    "print(a.grad)\n",
    "print(b.grad)"
   ]
  },
  {
   "cell_type": "markdown",
   "id": "bronze-vertical",
   "metadata": {},
   "source": [
    "## Example"
   ]
  },
  {
   "cell_type": "code",
   "execution_count": 51,
   "id": "impressed-review",
   "metadata": {},
   "outputs": [],
   "source": [
    "W = torch.randn(10,1,requires_grad=True)\n",
    "\n",
    "b = torch.randn(1,requires_grad=True)"
   ]
  },
  {
   "cell_type": "code",
   "execution_count": 52,
   "id": "genetic-madison",
   "metadata": {},
   "outputs": [],
   "source": [
    "x = torch.rand(1,10,requires_grad=True)\n",
    "\n",
    "output = torch.matmul(x,W)+b"
   ]
  },
  {
   "cell_type": "code",
   "execution_count": 53,
   "id": "balanced-marking",
   "metadata": {},
   "outputs": [],
   "source": [
    "# say loss is \n",
    "\n",
    "loss  = 1-output\n"
   ]
  },
  {
   "cell_type": "code",
   "execution_count": 54,
   "id": "classical-broad",
   "metadata": {},
   "outputs": [
    {
     "data": {
      "text/plain": [
       "tensor([[-0.2163]], grad_fn=<AddBackward0>)"
      ]
     },
     "execution_count": 54,
     "metadata": {},
     "output_type": "execute_result"
    }
   ],
   "source": [
    "output"
   ]
  },
  {
   "cell_type": "markdown",
   "id": "specific-presence",
   "metadata": {},
   "source": [
    "### Now once I click on .backward() function\n",
    "\n",
    "### all gradients will get stored in .grad attribute of variable"
   ]
  },
  {
   "cell_type": "code",
   "execution_count": 55,
   "id": "opposite-straight",
   "metadata": {},
   "outputs": [],
   "source": [
    "\n",
    "loss.backward()"
   ]
  },
  {
   "cell_type": "code",
   "execution_count": 56,
   "id": "future-jacket",
   "metadata": {},
   "outputs": [
    {
     "data": {
      "text/plain": [
       "tensor([[-0.8336],\n",
       "        [-0.3989],\n",
       "        [-0.0133],\n",
       "        [-0.9430],\n",
       "        [-0.0670],\n",
       "        [-0.3587],\n",
       "        [-0.2237],\n",
       "        [-0.5415],\n",
       "        [-0.0401],\n",
       "        [-0.4186]])"
      ]
     },
     "execution_count": 56,
     "metadata": {},
     "output_type": "execute_result"
    }
   ],
   "source": [
    "W.grad"
   ]
  },
  {
   "cell_type": "code",
   "execution_count": 57,
   "id": "normal-revolution",
   "metadata": {},
   "outputs": [
    {
     "data": {
      "text/plain": [
       "tensor([-1.])"
      ]
     },
     "execution_count": 57,
     "metadata": {},
     "output_type": "execute_result"
    }
   ],
   "source": [
    "b.grad"
   ]
  },
  {
   "cell_type": "code",
   "execution_count": 58,
   "id": "vocal-syntax",
   "metadata": {},
   "outputs": [
    {
     "name": "stdout",
     "output_type": "stream",
     "text": [
      "tensor([[ 1.0123],\n",
      "        [-0.2299],\n",
      "        [-2.0099],\n",
      "        [-0.8471],\n",
      "        [-1.8105],\n",
      "        [-0.8976],\n",
      "        [-0.0164],\n",
      "        [-1.1297],\n",
      "        [ 2.2109],\n",
      "        [-0.3522]])\n"
     ]
    }
   ],
   "source": [
    "# Update the weights\n",
    "\n",
    "# Menaning of torch.no_grad()  https://forums.fast.ai/t/what-does-torch-no-grad-mean/72355\n",
    "\n",
    "\n",
    "# This is just 1 epoch\n",
    "learning_rate = 0.001\n",
    "with torch.no_grad():\n",
    "    W = W - learning_rate*W.grad.data\n",
    "    print(W)"
   ]
  },
  {
   "cell_type": "code",
   "execution_count": null,
   "id": "referenced-minneapolis",
   "metadata": {},
   "outputs": [],
   "source": []
  },
  {
   "cell_type": "code",
   "execution_count": null,
   "id": "acute-jaguar",
   "metadata": {},
   "outputs": [],
   "source": []
  }
 ],
 "metadata": {
  "kernelspec": {
   "display_name": "Python 3",
   "language": "python",
   "name": "python3"
  },
  "language_info": {
   "codemirror_mode": {
    "name": "ipython",
    "version": 3
   },
   "file_extension": ".py",
   "mimetype": "text/x-python",
   "name": "python",
   "nbconvert_exporter": "python",
   "pygments_lexer": "ipython3",
   "version": "3.8.10"
  }
 },
 "nbformat": 4,
 "nbformat_minor": 5
}
