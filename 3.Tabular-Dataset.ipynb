{
 "cells": [
  {
   "cell_type": "markdown",
   "id": "supposed-seller",
   "metadata": {},
   "source": [
    "# Create dataset class for Tabular Data"
   ]
  },
  {
   "cell_type": "markdown",
   "id": "continuous-television",
   "metadata": {},
   "source": [
    "### Whenever we are making DL models in Pytorch we need a Dataset Class\n",
    "\n",
    "### and for a custom dataset class \n",
    "\n",
    "### we need to implement 3 functions in our class Primarily "
   ]
  },
  {
   "cell_type": "code",
   "execution_count": 4,
   "id": "coupled-living",
   "metadata": {},
   "outputs": [],
   "source": [
    "import torch\n",
    "from sklearn.datasets import make_classification"
   ]
  },
  {
   "cell_type": "code",
   "execution_count": 5,
   "id": "freelance-relay",
   "metadata": {},
   "outputs": [],
   "source": [
    "class FirstCustomDataset:\n",
    "    \n",
    "    def __init__(self, data ,targets):\n",
    "        \n",
    "        self.data =data\n",
    "        self.targets = targets\n",
    "        \n",
    "    def __len__ (self):\n",
    "        \n",
    "        return len(self.data)\n",
    "    \n",
    "    def __getitem__(self, idx):\n",
    "        \n",
    "        current_sample = self.data[idx,:]\n",
    "        \n",
    "        current_target = self.targets[idx]\n",
    "        \n",
    "        return {\n",
    "            \n",
    "            'sample' : torch.tensor(current_sample ,dtype = torch.float),\n",
    "            'target' : torch.tensor(current_target ,dtype = torch.long)\n",
    "        }"
   ]
  },
  {
   "cell_type": "code",
   "execution_count": 7,
   "id": "cleared-appliance",
   "metadata": {},
   "outputs": [],
   "source": [
    "data , targets = make_classification(n_samples =1000)"
   ]
  },
  {
   "cell_type": "code",
   "execution_count": 9,
   "id": "fancy-globe",
   "metadata": {},
   "outputs": [
    {
     "data": {
      "text/plain": [
       "(1000, 20)"
      ]
     },
     "execution_count": 9,
     "metadata": {},
     "output_type": "execute_result"
    }
   ],
   "source": [
    "data.shape"
   ]
  },
  {
   "cell_type": "code",
   "execution_count": 10,
   "id": "trained-vulnerability",
   "metadata": {},
   "outputs": [
    {
     "data": {
      "text/plain": [
       "(1000,)"
      ]
     },
     "execution_count": 10,
     "metadata": {},
     "output_type": "execute_result"
    }
   ],
   "source": [
    "targets.shape"
   ]
  },
  {
   "cell_type": "code",
   "execution_count": 12,
   "id": "ambient-valuable",
   "metadata": {},
   "outputs": [],
   "source": [
    "custom_dataset = FirstCustomDataset(data=data ,targets=targets)"
   ]
  },
  {
   "cell_type": "code",
   "execution_count": 13,
   "id": "amended-airplane",
   "metadata": {},
   "outputs": [
    {
     "data": {
      "text/plain": [
       "1000"
      ]
     },
     "execution_count": 13,
     "metadata": {},
     "output_type": "execute_result"
    }
   ],
   "source": [
    "len(custom_dataset)"
   ]
  },
  {
   "cell_type": "markdown",
   "id": "southwest-ethernet",
   "metadata": {},
   "source": [
    "### Now to access any elemnt of our dataset"
   ]
  },
  {
   "cell_type": "code",
   "execution_count": 20,
   "id": "stable-footwear",
   "metadata": {},
   "outputs": [
    {
     "name": "stdout",
     "output_type": "stream",
     "text": [
      "{'sample': tensor([-0.3775, -1.6717, -0.6098,  0.2574, -0.0721, -0.1603,  3.6449,  1.2436,\n",
      "        -0.2147, -1.3472, -0.6137, -0.6954, -0.4431, -0.6333, -0.4689, -0.5429,\n",
      "         1.3061, -2.1369, -1.1667, -0.0448]), 'target': tensor(0)} \n",
      "\n",
      "x ------> tensor([-0.3775, -1.6717, -0.6098,  0.2574, -0.0721, -0.1603,  3.6449,  1.2436,\n",
      "        -0.2147, -1.3472, -0.6137, -0.6954, -0.4431, -0.6333, -0.4689, -0.5429,\n",
      "         1.3061, -2.1369, -1.1667, -0.0448]) \n",
      "\n",
      "y ------> 0\n"
     ]
    }
   ],
   "source": [
    "print(custom_dataset[10],'\\n')\n",
    "x = custom_dataset[10]['sample'].data\n",
    "\n",
    "y = custom_dataset[10]['target'].data\n",
    "print(f'x ------> {x}','\\n')\n",
    " \n",
    "print(f'y ------> {y}')\n"
   ]
  },
  {
   "cell_type": "code",
   "execution_count": null,
   "id": "marine-percentage",
   "metadata": {},
   "outputs": [],
   "source": []
  },
  {
   "cell_type": "code",
   "execution_count": null,
   "id": "derived-dutch",
   "metadata": {},
   "outputs": [],
   "source": []
  },
  {
   "cell_type": "code",
   "execution_count": null,
   "id": "colonial-worcester",
   "metadata": {},
   "outputs": [],
   "source": []
  },
  {
   "cell_type": "code",
   "execution_count": null,
   "id": "universal-placement",
   "metadata": {},
   "outputs": [],
   "source": []
  },
  {
   "cell_type": "code",
   "execution_count": null,
   "id": "three-spider",
   "metadata": {},
   "outputs": [],
   "source": []
  },
  {
   "cell_type": "code",
   "execution_count": null,
   "id": "rocky-facial",
   "metadata": {},
   "outputs": [],
   "source": []
  }
 ],
 "metadata": {
  "kernelspec": {
   "display_name": "Python 3",
   "language": "python",
   "name": "python3"
  },
  "language_info": {
   "codemirror_mode": {
    "name": "ipython",
    "version": 3
   },
   "file_extension": ".py",
   "mimetype": "text/x-python",
   "name": "python",
   "nbconvert_exporter": "python",
   "pygments_lexer": "ipython3",
   "version": "3.8.10"
  }
 },
 "nbformat": 4,
 "nbformat_minor": 5
}
