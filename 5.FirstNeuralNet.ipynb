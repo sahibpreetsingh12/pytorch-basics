{
 "cells": [
  {
   "cell_type": "code",
   "execution_count": 199,
   "id": "afraid-father",
   "metadata": {},
   "outputs": [],
   "source": [
    "import torch\n",
    "import torch.nn as nn\n",
    "import torch.optim as optim\n",
    "import torch.nn.functional as F\n",
    "import torch.utils.data as DataLoader\n",
    "import torch\n",
    "from sklearn.datasets import make_classification\n",
    "# import torchvision.datasets as datasets\n",
    "# import torchvison.transforms as transforms"
   ]
  },
  {
   "cell_type": "code",
   "execution_count": 200,
   "id": "everyday-astrology",
   "metadata": {},
   "outputs": [],
   "source": [
    "class CustomDataset:\n",
    "    \n",
    "    def __init__(self, data ,targets):\n",
    "        \n",
    "        self.data =data\n",
    "        self.targets = targets\n",
    "        \n",
    "    def __len__ (self):\n",
    "        \n",
    "        return len(self.data)\n",
    "    \n",
    "    def __getitem__(self, idx):\n",
    "        \n",
    "        current_sample = self.data[idx,:]\n",
    "        \n",
    "        current_target = self.targets[idx]\n",
    "        \n",
    "        return {\n",
    "            \n",
    "            'sample' : torch.tensor(current_sample ,dtype = torch.float),\n",
    "            'target' : torch.tensor(current_target ,dtype = torch.long)\n",
    "        }"
   ]
  },
  {
   "cell_type": "code",
   "execution_count": 201,
   "id": "lined-jumping",
   "metadata": {},
   "outputs": [],
   "source": [
    "# classification data from sklearn\n",
    "data , targets =  make_classification(n_samples=1000)"
   ]
  },
  {
   "cell_type": "code",
   "execution_count": 202,
   "id": "rational-collaboration",
   "metadata": {},
   "outputs": [],
   "source": [
    "from sklearn.model_selection import train_test_split\n",
    "\n",
    "train_data,test_data,train_targets,test_targets = train_test_split(data,targets,stratify = targets)"
   ]
  },
  {
   "cell_type": "code",
   "execution_count": 203,
   "id": "consolidated-calcium",
   "metadata": {},
   "outputs": [],
   "source": [
    "\n",
    "# object of custom dataset class for training\n",
    "train_dataset = CustomDataset(train_data,train_targets)\n",
    "\n",
    "\n",
    "# object of custom dataset class for testing\n",
    "test_dataset = CustomDataset(test_data,test_targets)"
   ]
  },
  {
   "cell_type": "code",
   "execution_count": 204,
   "id": "democratic-viking",
   "metadata": {},
   "outputs": [],
   "source": [
    "# loaders for training\n",
    "\n",
    "\n",
    "train_loader = torch.utils.data.DataLoader(train_dataset,batch_size=4,num_workers=2)\n",
    "\n",
    "# loaders for testing\n",
    "test_loader = torch.utils.data.DataLoader(test_dataset,batch_size=10,num_workers=2)"
   ]
  },
  {
   "cell_type": "code",
   "execution_count": 205,
   "id": "billion-commissioner",
   "metadata": {},
   "outputs": [
    {
     "data": {
      "text/plain": [
       "(750, 20)"
      ]
     },
     "execution_count": 205,
     "metadata": {},
     "output_type": "execute_result"
    }
   ],
   "source": [
    "train_data.shape  # shape of training data"
   ]
  },
  {
   "cell_type": "code",
   "execution_count": 206,
   "id": "played-firmware",
   "metadata": {},
   "outputs": [
    {
     "data": {
      "text/plain": [
       "{'sample': tensor([-0.6627,  0.1625, -0.4478,  0.2608, -0.3235,  0.0207,  0.2220, -0.1722,\n",
       "          1.4966,  0.1699, -0.4218,  3.9994,  2.4079,  0.4183,  1.3749,  2.7511,\n",
       "         -1.6494, -1.1717, -2.1900, -1.4021]),\n",
       " 'target': tensor(1)}"
      ]
     },
     "execution_count": 206,
     "metadata": {},
     "output_type": "execute_result"
    }
   ],
   "source": [
    "\n",
    "\n",
    "# to access any elemnet from taring and testing dataset\n",
    "train_dataset[90]"
   ]
  },
  {
   "cell_type": "code",
   "execution_count": 207,
   "id": "outer-hepatitis",
   "metadata": {},
   "outputs": [],
   "source": [
    "\n",
    "# oUr linear regression model\n",
    "\n",
    "# y = x.w +b\n",
    "model = lambda x,w,b: torch.matmul(x,w)+b  "
   ]
  },
  {
   "cell_type": "markdown",
   "id": "charitable-desert",
   "metadata": {},
   "source": [
    "### Run the below cell and read it's comments"
   ]
  },
  {
   "cell_type": "code",
   "execution_count": 208,
   "id": "rural-height",
   "metadata": {},
   "outputs": [],
   "source": [
    "\n",
    "# outputs = []\n",
    "\n",
    "# labels = []\n",
    "\n",
    "# with torch.no_grad():\n",
    "#     for i,data in enumerate(train_loader):\n",
    "        \n",
    "#         # as we are having 750 examples in training data\n",
    "#         # and our batch size is 100 for train_loader so our train_loader will create 7 mini batches for training\n",
    "#         # and each batch will be a dictionary of sample and target ( sample and target have come from __getitem__ function from Custom Dataset class)\n",
    "#         print(i,data,'\\n')"
   ]
  },
  {
   "cell_type": "code",
   "execution_count": 209,
   "id": "legislative-pastor",
   "metadata": {},
   "outputs": [
    {
     "name": "stdout",
     "output_type": "stream",
     "text": [
      "\n",
      " 0 222.3605015259236 \n",
      "\n",
      "\n",
      " 1 17.145906555466354 \n",
      "\n",
      "\n",
      " 2 17.12337014079094 \n",
      "\n",
      "\n",
      " 3 17.12742791697383 \n",
      "\n",
      "\n",
      " 4 17.127609942108393 \n",
      "\n",
      "\n",
      " 5 17.12761803623289 \n",
      "\n",
      "\n",
      " 6 17.127618491649628 \n",
      "\n",
      "\n",
      " 7 17.1276184739545 \n",
      "\n",
      "\n",
      " 8 17.127618483267725 \n",
      "\n",
      "\n",
      " 9 17.12761841248721 \n",
      "\n"
     ]
    }
   ],
   "source": [
    "\n",
    "# initialising weights raindomly\n",
    "\n",
    "w = torch.rand(20,1,requires_grad=True)\n",
    "\n",
    "b = torch.randn(1,requires_grad=True)\n",
    "\n",
    "lr = 0.01\n",
    "\n",
    "for epoch in range(10):\n",
    "    \n",
    "    epoch_loss = 0\n",
    "    \n",
    "    for data in train_loader:\n",
    "        \n",
    "        # as we are having 750 examples in training data\n",
    "        # and our batch size is 100 for train_loader so our train_loader will create 7 mini batches for training\n",
    "        # and each batch will be a dictionary of sample and target ( sample and target have come from __getitem__ function from Custom Dataset class)\n",
    "        x_train = data['sample']\n",
    "        y_train = data['target']\n",
    "        \n",
    "        output = model(x_train,w,b)\n",
    "        \n",
    "        \n",
    "        # uncommnent\n",
    "#         print(f\"Initially value of Gradient for Weights matrix ---------> {w.grad}\")\n",
    "        # uncomment the line and see the output  \n",
    "        # we are getting predictions in batches of 100 as our batch size was 100\n",
    "        \n",
    "        # print(output.shape)\n",
    "        \n",
    "        loss = torch.mean((y_train.view(-1)-output.view(-1))**2)\n",
    "         \n",
    "        # for calculating loss per epoch\n",
    "        epoch_loss += loss.item()\n",
    "        \n",
    "        \n",
    "        loss.backward()\n",
    "        \n",
    "        #uncomment\n",
    "#         print(f'After going backward ------------->  {w.grad}')\n",
    "        \n",
    "        \n",
    "        with torch.no_grad():\n",
    "            w = w - lr*w.grad\n",
    "            b = b - lr*b.grad\n",
    "            \n",
    "        # we are again pls calculate grads for w again from now for 2,3,4,5 ... epochs  \n",
    "        \n",
    "        # requires_grad_  means it is inplace\n",
    "        w.requires_grad_(True)\n",
    "        b.requires_grad_(True)\n",
    "        \n",
    "    print('\\n',epoch,epoch_loss,'\\n')"
   ]
  },
  {
   "cell_type": "code",
   "execution_count": 210,
   "id": "underlying-makeup",
   "metadata": {},
   "outputs": [],
   "source": [
    "outputs = []\n",
    "\n",
    "true_labels = []\n",
    "\n",
    "\n",
    "with torch.no_grad():\n",
    "    for i in test_loader:\n",
    "\n",
    "        x_test = i['sample']\n",
    "        y_test = i['target']\n",
    "\n",
    "        output = model(x_test,w,b)\n",
    "\n",
    "        # true labels\n",
    "        true_labels.append(y_test)\n",
    "\n",
    "        outputs.append(output)\n"
   ]
  },
  {
   "cell_type": "code",
   "execution_count": 211,
   "id": "universal-injury",
   "metadata": {},
   "outputs": [
    {
     "name": "stdout",
     "output_type": "stream",
     "text": [
      "<class 'list'>\n"
     ]
    }
   ],
   "source": [
    "print(type(outputs)) # list of all tesnor of shape 10,1 ( 10 beacuse batch size was 10 from teest laoder)"
   ]
  },
  {
   "cell_type": "code",
   "execution_count": 212,
   "id": "hearing-valuable",
   "metadata": {},
   "outputs": [
    {
     "name": "stdout",
     "output_type": "stream",
     "text": [
      "0.9575652841781873\n"
     ]
    }
   ],
   "source": [
    "# concatenate and make our output shape of 250,1\n",
    "outputs = torch.cat(outputs).view(-1)\n",
    "\n",
    "true_labels = torch.cat(true_labels).view(-1)\n",
    "\n",
    "from sklearn.metrics import roc_auc_score\n",
    "\n",
    "print(roc_auc_score(true_labels,outputs))"
   ]
  },
  {
   "cell_type": "code",
   "execution_count": null,
   "id": "conscious-subject",
   "metadata": {},
   "outputs": [],
   "source": []
  }
 ],
 "metadata": {
  "kernelspec": {
   "display_name": "Python 3",
   "language": "python",
   "name": "python3"
  },
  "language_info": {
   "codemirror_mode": {
    "name": "ipython",
    "version": 3
   },
   "file_extension": ".py",
   "mimetype": "text/x-python",
   "name": "python",
   "nbconvert_exporter": "python",
   "pygments_lexer": "ipython3",
   "version": "3.8.10"
  }
 },
 "nbformat": 4,
 "nbformat_minor": 5
}
