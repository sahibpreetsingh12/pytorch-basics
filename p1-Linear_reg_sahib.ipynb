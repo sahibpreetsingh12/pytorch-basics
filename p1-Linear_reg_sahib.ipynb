{
 "cells": [
  {
   "cell_type": "code",
   "execution_count": 102,
   "id": "neural-nurse",
   "metadata": {},
   "outputs": [],
   "source": [
    "# Linear regresssion equations"
   ]
  },
  {
   "cell_type": "code",
   "execution_count": 202,
   "id": "weekly-american",
   "metadata": {},
   "outputs": [],
   "source": [
    "import torch \n",
    "import torch.nn as nn\n",
    "\n",
    "import matplotlib.pyplot as plt\n",
    "import numpy as np"
   ]
  },
  {
   "cell_type": "markdown",
   "id": "interior-separation",
   "metadata": {},
   "source": [
    "### Creating inputs for Linear regression equations\n",
    "\n",
    "**torch.randn(size)** \n",
    "returns samples from the \"standard normal\" distribution [σ = 1]\n",
    "\n",
    "Unlike rand which is uniform, values closer to zero are more likely to appear."
   ]
  },
  {
   "cell_type": "code",
   "execution_count": 254,
   "id": "painted-orange",
   "metadata": {},
   "outputs": [
    {
     "name": "stdout",
     "output_type": "stream",
     "text": [
      "torch.Size([500, 2])\n"
     ]
    }
   ],
   "source": [
    "torch.manual_seed(46)\n",
    "\n",
    "\n",
    "x1= torch.randint(0,20,(500,2),dtype=torch.float)\n",
    "print(x1.shape)\n",
    "\n",
    "\n",
    "# x2= torch.randint(0,30,(50,1),dtype=torch.float)\n",
    "# print(x1.shape)\n",
    "\n",
    "# bias term is b\n",
    "b = torch.randint(1,10,(1,500)).reshape(-1,1)\n",
    "\n",
    "\n",
    "# equation will be  y = 2*x1[0] + 4*x1[1] + b\n",
    "y = 2*x1[0] + 4*x1[1]  +b\n"
   ]
  },
  {
   "cell_type": "code",
   "execution_count": 77,
   "id": "roman-scenario",
   "metadata": {},
   "outputs": [],
   "source": [
    "# cannot be used while plotting MULTI VARIABLE LINEAR REGRESSION model\n",
    "# plt.scatter(x1.numpy(),y.numpy())"
   ]
  },
  {
   "cell_type": "markdown",
   "id": "given-subject",
   "metadata": {},
   "source": [
    "### Simple Linear Model"
   ]
  },
  {
   "cell_type": "code",
   "execution_count": 255,
   "id": "lovely-bonus",
   "metadata": {},
   "outputs": [],
   "source": [
    "class Linearmodel(nn.Module):\n",
    "    def __init__(self,input_f,output_f):\n",
    "        \n",
    "        # inherating every fucntion and Method present in nn.Module\n",
    "        super().__init__()\n",
    "        \n",
    "        # defining linear layer using Linear Model\n",
    "        self.linear_layer = nn.Linear(input_f,output_f)\n",
    "        \n",
    "        \n",
    "    def forward(self,x1):\n",
    "        prediction = self.linear_layer(x1)\n",
    "        return prediction"
   ]
  },
  {
   "cell_type": "code",
   "execution_count": 256,
   "id": "prostate-gambling",
   "metadata": {},
   "outputs": [
    {
     "name": "stdout",
     "output_type": "stream",
     "text": [
      "Linearmodel(\n",
      "  (linear_layer): Linear(in_features=2, out_features=1, bias=True)\n",
      ")\n",
      "weight are  weight 1 is ---> 0.6408010721206665 weight 2 is ---> 0.08583964407444\n",
      "linear_layer.weight\n",
      "linear_layer.bias\n"
     ]
    }
   ],
   "source": [
    "torch.manual_seed(56)\n",
    "\n",
    "model = Linearmodel(2,1)\n",
    "\n",
    "print(model)\n",
    "\n",
    "print(\"weight are  weight 1 is --->\",model.linear_layer.weight[0][0].item(),\"weight 2 is --->\",model.linear_layer.weight[0][1].item())\n",
    "# print(\"Bias is \", model.linear_layer.bias.item())\n",
    "\n",
    "for name, param in model.named_parameters():\n",
    "    print(name)"
   ]
  },
  {
   "cell_type": "code",
   "execution_count": 161,
   "id": "dimensional-russian",
   "metadata": {},
   "outputs": [],
   "source": [
    "\n",
    "# # using one random input \n",
    "# x1_ = torch.tensor([[2.0,]]).T\n",
    "# print(x1_.shape)\n",
    "# # model is giving answer using y = wx+b  where w = 0.906 and b = 0.121\n",
    "# print(model.forward(x1_))  "
   ]
  },
  {
   "cell_type": "markdown",
   "id": "chemical-diabetes",
   "metadata": {},
   "source": [
    "### Now Taking LOSS function into ACCOUNT "
   ]
  },
  {
   "cell_type": "markdown",
   "id": "curious-sheriff",
   "metadata": {},
   "source": [
    "## Set the loss function\n",
    "We could write our own function to apply a Mean Squared Error (MSE) that follows<br>\n",
    "\n",
    "$\\begin{split}MSE &= \\frac {1} {n} \\sum_{i=1}^n {(y_i - \\hat y_i)}^2 \\\\\n",
    "&= \\frac {1} {n} \\sum_{i=1}^n {(y_i - (wx_i + b))}^2\\end{split}$<br>\n",
    "\n",
    "Fortunately PyTorch has it built in.<br>\n",
    "<em>By convention, you'll see the variable name \"criterion\" used, but feel free to use something like \"linear_loss_func\" if that's clearer.</em>"
   ]
  },
  {
   "cell_type": "markdown",
   "id": "thermal-landscape",
   "metadata": {},
   "source": [
    "## Set the optimization\n",
    "Here we'll use <a href='https://en.wikipedia.org/wiki/Stochastic_gradient_descent'>Stochastic Gradient Descent</a> (SGD) with an applied <a href='https://en.wikipedia.org/wiki/Learning_rate'>learning rate</a> (lr) of 0.001. Recall that the learning rate tells the optimizer how much to adjust each parameter on the next round of calculations. Too large a step and we run the risk of overshooting the minimum, causing the algorithm to diverge. Too small and it will take a long time to converge.\n",
    "\n",
    "For more complicated (multivariate) data, you might also consider passing optional <a href='https://en.wikipedia.org/wiki/Stochastic_gradient_descent#Momentum'><tt>momentum</tt></a> and <a href='https://en.wikipedia.org/wiki/Tikhonov_regularization'><tt>weight_decay</tt></a> arguments. Momentum allows the algorithm to \"roll over\" small bumps to avoid local minima that can cause convergence too soon. Weight decay (also called an L2 penalty) applies to biases.\n",
    "\n",
    "For more information, see <a href='https://pytorch.org/docs/stable/optim.html'><strong><tt>torch.optim</tt></strong></a>"
   ]
  },
  {
   "cell_type": "code",
   "execution_count": 257,
   "id": "amended-parks",
   "metadata": {},
   "outputs": [],
   "source": [
    "criterion = nn.MSELoss()\n",
    "optimizer_ = torch.optim.SGD(model.parameters(), lr = 0.0001)"
   ]
  },
  {
   "cell_type": "code",
   "execution_count": 260,
   "id": "functional-mustang",
   "metadata": {},
   "outputs": [
    {
     "name": "stdout",
     "output_type": "stream",
     "text": [
      "epoch: 1000  loss: 707.64794922\n",
      "epoch: 2000  loss: 677.27117920\n",
      "epoch: 3000  loss: 648.54949951\n",
      "epoch: 4000  loss: 621.39257812\n",
      "epoch: 5000  loss: 595.71508789\n",
      "epoch: 6000  loss: 571.43664551\n",
      "epoch: 7000  loss: 548.48077393\n",
      "epoch: 8000  loss: 526.77563477\n",
      "epoch: 9000  loss: 506.25311279\n",
      "epoch: 10000  loss: 486.84851074\n"
     ]
    }
   ],
   "source": [
    "epochs = 10000\n",
    "losses = []\n",
    "\n",
    "for i in range(epochs):\n",
    "    i+=1\n",
    "   \n",
    "   \n",
    "    y_pred = model.forward(x1)\n",
    "    loss = criterion(y_pred, y)\n",
    "    losses.append(loss)\n",
    "    if i%1000==0:\n",
    "        print(f'epoch: {i:2}  loss: {loss.item():10.8f}')#  weight: {model.linear_layer.weight.item():10.8f}  \\\n",
    "# bias: {model.linear_layer.bias.item():10.8f}') \n",
    "    optimizer_.zero_grad()\n",
    "    loss.backward()\n",
    "    optimizer_.step()"
   ]
  },
  {
   "cell_type": "code",
   "execution_count": 261,
   "id": "experienced-rider",
   "metadata": {},
   "outputs": [
    {
     "name": "stdout",
     "output_type": "stream",
     "text": [
      "2.2319438457489014 2.1528868675231934 17.685501098632812\n"
     ]
    }
   ],
   "source": [
    "w1,w2,b1 = model.linear_layer.weight[0][0].item(), model.linear_layer.weight[0][1].item(),model.linear_layer.bias.item()\n",
    "print(w1,w2,b1)\n",
    "# y1 = x1*w1 +b1\n"
   ]
  },
  {
   "cell_type": "code",
   "execution_count": 262,
   "id": "surprised-token",
   "metadata": {},
   "outputs": [
    {
     "data": {
      "text/plain": [
       "30.7609342986"
      ]
     },
     "execution_count": 262,
     "metadata": {},
     "output_type": "execute_result"
    }
   ],
   "source": [
    "2*2.231943 + 4*2.1528868 + 17.6855010986\n"
   ]
  },
  {
   "cell_type": "code",
   "execution_count": null,
   "id": "possible-billy",
   "metadata": {},
   "outputs": [],
   "source": []
  }
 ],
 "metadata": {
  "kernelspec": {
   "display_name": "Python 3.8.2 64-bit",
   "language": "python",
   "name": "python38264bita03373cad2404f55bdc5db0285b9fbe0"
  },
  "language_info": {
   "codemirror_mode": {
    "name": "ipython",
    "version": 3
   },
   "file_extension": ".py",
   "mimetype": "text/x-python",
   "name": "python",
   "nbconvert_exporter": "python",
   "pygments_lexer": "ipython3",
   "version": "3.8.10"
  }
 },
 "nbformat": 4,
 "nbformat_minor": 5
}
